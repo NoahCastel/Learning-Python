{
  "nbformat": 4,
  "nbformat_minor": 0,
  "metadata": {
    "colab": {
      "provenance": [],
      "authorship_tag": "ABX9TyMp9jxiEvpQ9Dc0wMrSYw/+",
      "include_colab_link": true
    },
    "kernelspec": {
      "name": "python3",
      "display_name": "Python 3"
    },
    "language_info": {
      "name": "python"
    }
  },
  "cells": [
    {
      "cell_type": "markdown",
      "metadata": {
        "id": "view-in-github",
        "colab_type": "text"
      },
      "source": [
        "<a href=\"https://colab.research.google.com/github/NoahCastel/Learning-Python/blob/main/ARRAYS_Terceira_pr%C3%A1tica_com_Python.ipynb\" target=\"_parent\"><img src=\"https://colab.research.google.com/assets/colab-badge.svg\" alt=\"Open In Colab\"/></a>"
      ]
    },
    {
      "cell_type": "code",
      "source": [
        "# Criando uma variável de fruta\n",
        "a_fruta = \"morango\"\n",
        "print(a_fruta)"
      ],
      "metadata": {
        "colab": {
          "base_uri": "https://localhost:8080/"
        },
        "id": "0-0sy0csNszs",
        "outputId": "c02bfddc-7942-4ad4-cfac-1b09fdeca59a"
      },
      "execution_count": 2,
      "outputs": [
        {
          "output_type": "stream",
          "name": "stdout",
          "text": [
            "morango\n"
          ]
        }
      ]
    },
    {
      "cell_type": "code",
      "source": [
        "# Criando uma array com diversas frutas armazenadas [ ]\n",
        "frutas = [\"pera\", \"abacaxi\", \"goiaba\", \"melao\"]\n",
        "print(frutas)"
      ],
      "metadata": {
        "colab": {
          "base_uri": "https://localhost:8080/"
        },
        "id": "EmNxikKrO7Ro",
        "outputId": "748a1244-02c0-47f6-8403-d12c059f2f3a"
      },
      "execution_count": 1,
      "outputs": [
        {
          "output_type": "stream",
          "name": "stdout",
          "text": [
            "['pera', 'abacaxi', 'goiaba', 'melao']\n"
          ]
        }
      ]
    },
    {
      "cell_type": "code",
      "source": [
        "# Manipulando o conteúdo da array frutas, visualizando pelo número do índice\n",
        "print(frutas[1])\n",
        "\n",
        "# Quantos itens estão armazenados na array frutas\n",
        "# 'len' é uma função que é utilizada para obter o número de itens em um\n",
        "# determinado objeto, string, array, listas, entre outros.\n",
        "\n",
        "qtde_frutas = len(frutas)\n",
        "\n",
        "print(qtde_frutas)\n",
        "print(frutas)"
      ],
      "metadata": {
        "colab": {
          "base_uri": "https://localhost:8080/"
        },
        "id": "cFWSXAZ5QXBa",
        "outputId": "c7bde9d5-b888-4075-fa9e-8bc08f121f8d"
      },
      "execution_count": 3,
      "outputs": [
        {
          "output_type": "stream",
          "name": "stdout",
          "text": [
            "abacaxi\n",
            "4\n",
            "['pera', 'abacaxi', 'goiaba', 'melao']\n"
          ]
        }
      ]
    },
    {
      "cell_type": "code",
      "source": [
        "# APPEND - Função usada para adicionar elementos\n",
        "frutas.append(\"jaboticaba\")\n",
        "\n",
        "# Usando a função 'len' para saber a qtde. de objetos dentro da array 'frutas'\n",
        "print(len(frutas))\n",
        "print(frutas)"
      ],
      "metadata": {
        "colab": {
          "base_uri": "https://localhost:8080/"
        },
        "id": "lte2xYgRTQ9q",
        "outputId": "91d72c5a-cc67-4949-b70e-34344fc4eca8"
      },
      "execution_count": 4,
      "outputs": [
        {
          "output_type": "stream",
          "name": "stdout",
          "text": [
            "5\n",
            "['pera', 'abacaxi', 'goiaba', 'melao', 'jaboticaba']\n"
          ]
        }
      ]
    },
    {
      "cell_type": "code",
      "source": [
        "# Removendo elementos da array utilizando 'pop'\n",
        "frutas.pop(3)"
      ],
      "metadata": {
        "colab": {
          "base_uri": "https://localhost:8080/",
          "height": 36
        },
        "id": "yYNgc486UMJw",
        "outputId": "3e548659-7cfd-4c7c-f770-50fabd6691ab"
      },
      "execution_count": 5,
      "outputs": [
        {
          "output_type": "execute_result",
          "data": {
            "text/plain": [
              "'melao'"
            ],
            "application/vnd.google.colaboratory.intrinsic+json": {
              "type": "string"
            }
          },
          "metadata": {},
          "execution_count": 5
        }
      ]
    },
    {
      "cell_type": "code",
      "source": [
        "# Adicionando e removendo elementos da array\n",
        "frutas.append(\"kiwi\")\n",
        "frutas.remove(\"pera\")"
      ],
      "metadata": {
        "id": "_Iq12or_VTu2"
      },
      "execution_count": 7,
      "outputs": []
    },
    {
      "cell_type": "code",
      "source": [
        "# Checando as alterações aplicadas\n",
        "print(frutas)\n",
        "print(len(frutas))"
      ],
      "metadata": {
        "colab": {
          "base_uri": "https://localhost:8080/"
        },
        "id": "LVjR192KfmW-",
        "outputId": "ecc64486-f198-401f-a702-20354b18af8a"
      },
      "execution_count": 12,
      "outputs": [
        {
          "output_type": "stream",
          "name": "stdout",
          "text": [
            "['abacaxi', 'goiaba', 'laranja', 'jaboticaba', 'bergamota', 'kiwi']\n",
            "6\n"
          ]
        }
      ]
    },
    {
      "cell_type": "code",
      "source": [
        "# INSERT - Adicionando elementos definindo sua posição no índice\n",
        "frutas.insert(2, \"laranja\")\n",
        "print(qtde_frutas)\n",
        "print(frutas)"
      ],
      "metadata": {
        "colab": {
          "base_uri": "https://localhost:8080/"
        },
        "id": "bF8DQRVPX1bY",
        "outputId": "636c334a-64f2-47d0-ac9e-e1b5007e9afe"
      },
      "execution_count": 9,
      "outputs": [
        {
          "output_type": "stream",
          "name": "stdout",
          "text": [
            "4\n",
            "['abacaxi', 'goiaba', 'laranja', 'jaboticaba', 'bergamota', 'kiwi']\n"
          ]
        }
      ]
    },
    {
      "cell_type": "code",
      "source": [
        "# LAÇOS DE REPETIÇÃO - for / for each\n",
        "# Exibir cada um dos itens da array 'frutas' da seguinte forma:\n",
        "# Xa. fruta: -nome da Xa. fruta-\n",
        "\n",
        "ordinal = 1\n",
        "\n",
        "for fruta  in frutas:\n",
        "  print(f\"{ordinal}a. fruta: {fruta}\")\n",
        "  ordinal = ordinal + 1"
      ],
      "metadata": {
        "colab": {
          "base_uri": "https://localhost:8080/"
        },
        "id": "evwnpzS0W-f5",
        "outputId": "44d041d8-64a0-4757-ba42-5140f74cf016"
      },
      "execution_count": 13,
      "outputs": [
        {
          "output_type": "stream",
          "name": "stdout",
          "text": [
            "1a. fruta: abacaxi\n",
            "2a. fruta: goiaba\n",
            "3a. fruta: laranja\n",
            "4a. fruta: jaboticaba\n",
            "5a. fruta: bergamota\n",
            "6a. fruta: kiwi\n"
          ]
        }
      ]
    }
  ]
}