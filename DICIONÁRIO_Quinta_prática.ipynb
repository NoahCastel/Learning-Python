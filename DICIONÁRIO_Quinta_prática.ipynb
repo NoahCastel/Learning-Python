{
  "nbformat": 4,
  "nbformat_minor": 0,
  "metadata": {
    "colab": {
      "provenance": [],
      "authorship_tag": "ABX9TyPCl4kLmsUAxD09F3YYQA+u",
      "include_colab_link": true
    },
    "kernelspec": {
      "name": "python3",
      "display_name": "Python 3"
    },
    "language_info": {
      "name": "python"
    }
  },
  "cells": [
    {
      "cell_type": "markdown",
      "metadata": {
        "id": "view-in-github",
        "colab_type": "text"
      },
      "source": [
        "<a href=\"https://colab.research.google.com/github/NoahCastel/Learning-Python/blob/main/DICION%C3%81RIO_Quinta_pr%C3%A1tica.ipynb\" target=\"_parent\"><img src=\"https://colab.research.google.com/assets/colab-badge.svg\" alt=\"Open In Colab\"/></a>"
      ]
    },
    {
      "cell_type": "code",
      "execution_count": null,
      "metadata": {
        "colab": {
          "base_uri": "https://localhost:8080/"
        },
        "id": "JwquaXvEY9Vg",
        "outputId": "5f159bbc-7c93-4b7b-98c4-87f150a05c33"
      },
      "outputs": [
        {
          "output_type": "stream",
          "name": "stdout",
          "text": [
            "{'nome': 'SmartTV LG', 'qtde': 10, 'preco': 3999.9}\n"
          ]
        }
      ],
      "source": [
        "# Criando um dicionário de produtos\n",
        "# Tem sempre que estar dentre '{}'\n",
        "\n",
        "produto = {\n",
        "    \"nome\": \"SmartTV LG\",\n",
        "    \"qtde\": 10,\n",
        "    \"preco\": 3999.90\n",
        "}\n",
        "print(produto)"
      ]
    },
    {
      "cell_type": "code",
      "source": [
        "# Quero saber apenas a qtde dos produtos do dicionário\n",
        "\n",
        "print(produto[\"qtde\"])\n",
        "print(produto[\"nome\"])"
      ],
      "metadata": {
        "colab": {
          "base_uri": "https://localhost:8080/"
        },
        "id": "Hy6oTKzyZjCS",
        "outputId": "39f25f03-2195-40bc-dc7a-285f78c562e3"
      },
      "execution_count": null,
      "outputs": [
        {
          "output_type": "stream",
          "name": "stdout",
          "text": [
            "10\n",
            "SmartTV LG\n"
          ]
        }
      ]
    },
    {
      "cell_type": "code",
      "source": [],
      "metadata": {
        "id": "Cd6HeHLPk7Ae"
      },
      "execution_count": null,
      "outputs": []
    }
  ]
}