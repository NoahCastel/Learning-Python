{
  "nbformat": 4,
  "nbformat_minor": 0,
  "metadata": {
    "colab": {
      "provenance": [],
      "authorship_tag": "ABX9TyOPpvRXqLxb8Hp07l6sUXbA",
      "include_colab_link": true
    },
    "kernelspec": {
      "name": "python3",
      "display_name": "Python 3"
    },
    "language_info": {
      "name": "python"
    }
  },
  "cells": [
    {
      "cell_type": "markdown",
      "metadata": {
        "id": "view-in-github",
        "colab_type": "text"
      },
      "source": [
        "<a href=\"https://colab.research.google.com/github/NoahCastel/Learning-Python/blob/Developer/Introduzindo_Python.ipynb\" target=\"_parent\"><img src=\"https://colab.research.google.com/assets/colab-badge.svg\" alt=\"Open In Colab\"/></a>"
      ]
    },
    {
      "cell_type": "markdown",
      "source": [
        "Primeira prática em Python"
      ],
      "metadata": {
        "id": "Ss-veMwlzWGk"
      }
    },
    {
      "cell_type": "code",
      "source": [
        "# PRINT - Comando de saída \\\\ Primeiro exemplo em Python\n",
        "print(\"Salve, mundo!\")"
      ],
      "metadata": {
        "colab": {
          "base_uri": "https://localhost:8080/"
        },
        "id": "H4GP_wgDzjaG",
        "outputId": "a8af8c82-389a-441c-b3a8-c796b9bbade2"
      },
      "execution_count": null,
      "outputs": [
        {
          "output_type": "stream",
          "name": "stdout",
          "text": [
            "Salve, mundo!\n"
          ]
        }
      ]
    },
    {
      "cell_type": "code",
      "source": [
        "# INPUT - Comando de entrada: pergunto o nome e o armazeno na variável\n",
        "nome = input(\"Informe seu nome: \")"
      ],
      "metadata": {
        "colab": {
          "base_uri": "https://localhost:8080/"
        },
        "id": "ntH6q5pg06bt",
        "outputId": "a35b8e88-5bb7-4e8f-baed-b07513383bc1"
      },
      "execution_count": 1,
      "outputs": [
        {
          "name": "stdout",
          "output_type": "stream",
          "text": [
            "Informe seu nome: Noé\n"
          ]
        }
      ]
    },
    {
      "cell_type": "code",
      "source": [
        "# USANDO A VARIÁVEL CRIADA - Programa dirá Olá informando o nome do usuário\n",
        "\n",
        "print(f\"Olá, {nome}!\")"
      ],
      "metadata": {
        "id": "HlgK673a1tg_",
        "colab": {
          "base_uri": "https://localhost:8080/"
        },
        "outputId": "84a8148f-0e02-438f-ef29-562b15f4d4a9"
      },
      "execution_count": 2,
      "outputs": [
        {
          "output_type": "stream",
          "name": "stdout",
          "text": [
            "Olá, Noé!\n"
          ]
        }
      ]
    }
  ]
}