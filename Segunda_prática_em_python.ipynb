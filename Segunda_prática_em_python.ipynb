{
  "nbformat": 4,
  "nbformat_minor": 0,
  "metadata": {
    "colab": {
      "provenance": [],
      "authorship_tag": "ABX9TyNv16O9u4PsEvp5ihrw3hqZ",
      "include_colab_link": true
    },
    "kernelspec": {
      "name": "python3",
      "display_name": "Python 3"
    },
    "language_info": {
      "name": "python"
    }
  },
  "cells": [
    {
      "cell_type": "markdown",
      "metadata": {
        "id": "view-in-github",
        "colab_type": "text"
      },
      "source": [
        "<a href=\"https://colab.research.google.com/github/NoahCastel/Learning-Python/blob/Developer/Segunda_pr%C3%A1tica_em_python.ipynb\" target=\"_parent\"><img src=\"https://colab.research.google.com/assets/colab-badge.svg\" alt=\"Open In Colab\"/></a>"
      ]
    },
    {
      "cell_type": "code",
      "execution_count": 5,
      "metadata": {
        "colab": {
          "base_uri": "https://localhost:8080/"
        },
        "id": "ONKltNkOEYku",
        "outputId": "424481f0-c42d-4b20-986a-b396543ed270"
      },
      "outputs": [
        {
          "name": "stdout",
          "output_type": "stream",
          "text": [
            "Digite o nome do produto: SmartTV LG\n",
            "Digite a quantidade do produto: 23\n",
            "Digite o preço do produto: 3999.90\n"
          ]
        }
      ],
      "source": [
        "# 1. CRIANDO VARIÁVEIS | Pede o nome do produto, qtde. em estoque e preço.\n",
        "nome = input(\"Digite o nome do produto: \")\n",
        "qtde = int(input(\"Digite a quantidade do produto: \"))\n",
        "preco = float(input(\"Digite o preço do produto: \"))"
      ]
    },
    {
      "cell_type": "code",
      "source": [
        "# 2. OUTPUT VARIÁVEIS CRIADAS | Tipos: string, integer e float.\n",
        "print(f\"Nome do Produto: {nome}\")\n",
        "print(f\"Quantidade disponível: {qtde}\")\n",
        "print(f\"Preço unitário do produto {nome}: {preco}\")"
      ],
      "metadata": {
        "colab": {
          "base_uri": "https://localhost:8080/"
        },
        "id": "mBn7TbXlIHY8",
        "outputId": "ff456387-0e7b-4022-8840-194a0945affd"
      },
      "execution_count": null,
      "outputs": [
        {
          "output_type": "stream",
          "name": "stdout",
          "text": [
            "Nome do Produto: SmartTV LG\n",
            "Quantidade disponível: 13\n",
            "Preço unitário do produto SmartTV LG: 3999.9\n"
          ]
        }
      ]
    },
    {
      "cell_type": "code",
      "source": [
        "# 3. CONDICIONAL IF - Se o estoque do produto estiver abaixo de 50 unid. exibir uma mensagem sinalizando isso.\n",
        "if (qtde < 50):\n",
        "  print(f\"Atenção! O estoque do produto {nome} está abaixo do mínimo. A quantidade disponível é de: {qtde} unidades.\")"
      ],
      "metadata": {
        "colab": {
          "base_uri": "https://localhost:8080/"
        },
        "id": "FqAE1bHm9xVh",
        "outputId": "da5cf18b-a30b-4373-84e7-3039284fc789"
      },
      "execution_count": 9,
      "outputs": [
        {
          "output_type": "stream",
          "name": "stdout",
          "text": [
            "Atenção! O estoque do produto SmartTV LG está abaixo do mínimo. A quantidade disponível é de: 23 unidades.\n"
          ]
        }
      ]
    },
    {
      "cell_type": "code",
      "source": [
        "# 4. CONDICIONAL PREÇO - Calculando o preço bruto do produto + imposto (10%)\n",
        "preco_imposto = preco * 1.1\n",
        "print(f\"Preço total com imposto calculado: {preco_imposto}.\")"
      ],
      "metadata": {
        "colab": {
          "base_uri": "https://localhost:8080/"
        },
        "id": "mzMkIpfLAjtm",
        "outputId": "372de230-9e59-41b8-9aff-c1b09240590a"
      },
      "execution_count": 14,
      "outputs": [
        {
          "output_type": "stream",
          "name": "stdout",
          "text": [
            "Preço total com imposto calculado: 4399.89.\n"
          ]
        }
      ]
    }
  ]
}