{
  "nbformat": 4,
  "nbformat_minor": 0,
  "metadata": {
    "colab": {
      "provenance": [],
      "authorship_tag": "ABX9TyN7O9RXq+fu1DZqH+m7aqAa",
      "include_colab_link": true
    },
    "kernelspec": {
      "name": "python3",
      "display_name": "Python 3"
    },
    "language_info": {
      "name": "python"
    }
  },
  "cells": [
    {
      "cell_type": "markdown",
      "metadata": {
        "id": "view-in-github",
        "colab_type": "text"
      },
      "source": [
        "<a href=\"https://colab.research.google.com/github/NoahCastel/Learning-Python/blob/main/WHILE_Quarta_pr%C3%A1tica_com_Python.ipynb\" target=\"_parent\"><img src=\"https://colab.research.google.com/assets/colab-badge.svg\" alt=\"Open In Colab\"/></a>"
      ]
    },
    {
      "cell_type": "code",
      "execution_count": 15,
      "metadata": {
        "colab": {
          "base_uri": "https://localhost:8080/"
        },
        "id": "3CexcJGYXEcI",
        "outputId": "6609f5d5-8b1c-49ad-ccdc-93e3aeb45652"
      },
      "outputs": [
        {
          "output_type": "stream",
          "name": "stdout",
          "text": [
            "Digite o preço do 1o. produto: 487.99\n",
            "Digite o preço do 2o. produto: 128.99\n",
            "Digite o preço do 3o. produto: 1100.00\n",
            "Digite o preço do 4o. produto: 125.99\n",
            "Digite o preço do 5o. produto: 498.90\n",
            "[487.99, 128.99, 1100.0, 125.99, 498.9]\n"
          ]
        }
      ],
      "source": [
        "\n",
        "# Usuário insere o preço dos produtos\n",
        "\n",
        "# Criar o array para inserir os valores:\n",
        "precos = []\n",
        "\n",
        "# Percorrendo essa lista para que seja inserido um preço por vez (WHILE)\n",
        "numerador = 1\n",
        "while(numerador <= 5):\n",
        "  precos.append(float(input(f\"Digite o preço do {numerador}o. produto: \")))\n",
        "  numerador = numerador + 1\n",
        "\n",
        "print(precos)"
      ]
    },
    {
      "cell_type": "code",
      "source": [
        "# Percorrer a lista de preços de produtos usando o 'for'\n",
        "total = 0\n",
        "for preco in precos:\n",
        "  total = total + preco\n",
        "\n",
        "print(total)\n",
        "\n",
        "# Calculando o preço médio dos produtos\n",
        "print(total/len(precos))"
      ],
      "metadata": {
        "colab": {
          "base_uri": "https://localhost:8080/"
        },
        "id": "ckKS6taMYuiy",
        "outputId": "2affae9e-ae52-44a5-e32d-c82d32f24d5f"
      },
      "execution_count": 16,
      "outputs": [
        {
          "output_type": "stream",
          "name": "stdout",
          "text": [
            "2341.87\n",
            "468.37399999999997\n"
          ]
        }
      ]
    }
  ]
}